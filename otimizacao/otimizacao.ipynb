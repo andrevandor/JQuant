{
 "cells": [
  {
   "cell_type": "code",
   "execution_count": 1,
   "metadata": {
    "ExecuteTime": {
     "end_time": "2019-12-09T12:31:59.061040Z",
     "start_time": "2019-12-09T12:31:58.893101Z"
    }
   },
   "outputs": [],
   "source": [
    "import numpy as np"
   ]
  },
  {
   "cell_type": "markdown",
   "metadata": {},
   "source": [
    "# Problema da mochila\n",
    "\n",
    "Considerando alguns itens, seus valores e uma capacidade máxima da mochila, a ideia é achar a combinação ótima de itens que permita carregar o maior valor possível dentro da capacidade de carga. É um problema que se resolve com programação dinâmica.\n",
    "\n",
    "A ideia é criar uma tabela onde as colunas representem a capacidade da mochila (i.e., se a mochila tem capacidade para 5kg, as colunas vão representar os valores 0, 1, 2, 3, 4 e 5kg - daqui pra frente, vamos chamar as colunas de sub-mochilas) e as linhas representem cada item que está disponível para ser colocado na mochila em si.\n",
    "\n",
    "O racional consiste em 3 casos-base: 1) A mochila tem capacidade 0 e/ou há 0 itens para serem escolhidos. Nesse caso, o valor ótimo também é zero. 2) O peso do item cabe na sub-mochila: nesse caso, verificamos se, dentre as soluções ótimas já calculadas para as outras sub-mochilas, vale a pena colocar o item atual ou não. Isso é possível de ser consultado rapidamente pela forma com que a tabela é construída. 3) O peso do item não cabe na mochila. Neste caso, não fazemos nada.\n",
    "\n",
    "O intuito é que cada célula da matriz indique qual é o valor/combinação ótima de itens para uma determinada capacidade. Por exemplo, se tivermos 4 itens e uma mochila de 5kg, a célula [2][4] nos diz qual é o valor ótimo que pode ser carregado com 4kg e considerando os dois primeiros itens listados. Dessa forma, para vermos qual a melhor solução para um problema que tem n itens e uma mochila de capacidade c, devemos retornar o valor da célula [n][c] "
   ]
  },
  {
   "cell_type": "code",
   "execution_count": 2,
   "metadata": {
    "ExecuteTime": {
     "end_time": "2019-12-09T12:32:03.718286Z",
     "start_time": "2019-12-09T12:32:03.712315Z"
    }
   },
   "outputs": [],
   "source": [
    "# Retorna o valor ótimo\n",
    "\n",
    "def mochila(itens, peso):\n",
    "    n_itens = len(itens)\n",
    "    m = [[0 for i in range(peso + 1)] for j in range(n_itens + 1)] # condição (1) descrita acima\n",
    "        \n",
    "    for i in range(1, n_itens + 1):\n",
    "        for j in range(1, peso + 1):\n",
    "            if itens[i - 1][0] <= j: # se couber, verifica se vale a pena levar. É a condição (2) descrita acima\n",
    "                m[i][j] = max(m[i - 1][j - itens[i - 1][0]] + itens[i - 1][1], m[i - 1][j])\n",
    "            else: # condição (3) descrita acima\n",
    "                m[i][j] = m[i - 1][j]\n",
    "    print(m)\n",
    "    return m[n_itens][peso]"
   ]
  },
  {
   "cell_type": "code",
   "execution_count": 27,
   "metadata": {
    "ExecuteTime": {
     "end_time": "2019-12-09T13:10:13.942703Z",
     "start_time": "2019-12-09T13:10:13.934678Z"
    }
   },
   "outputs": [],
   "source": [
    "# Retorna o valor ótimo com backtracking (quais itens levar)\n",
    "\n",
    "def mochila_bt(itens, peso):\n",
    "    n_itens = len(itens)\n",
    "    m = [[0 for i in range(peso + 1)] for j in range(n_itens + 1)] # condição (1) descrita acima\n",
    "    bt = [[[] for i in range(peso + 1)] for j in range(n_itens + 1)]\n",
    "    \n",
    "    for i in range(1, n_itens + 1):\n",
    "        for j in range(1, peso + 1):\n",
    "            if itens[i - 1][0] <= j:# se couber, verifica se vale a pena levar. É a condição (2) descrita acima\n",
    "                m[i][j] = max(m[i - 1][j - itens[i - 1][0]] + itens[i - 1][1], m[i - 1][j])\n",
    "                \n",
    "                # Faz o backtracking para ir salvando quais itens levar\n",
    "                if(m[i - 1][j - itens[i - 1][0]] + itens[i - 1][1] > m[i - 1][j]):\n",
    "                    bt[i][j] = bt[i - 1][j - itens[i - 1][0]] + [i]\n",
    "                else:\n",
    "                    bt[i][j] = bt[i - 1][j]\n",
    "            else: # condição (3) descrita acima\n",
    "                m[i][j] = m[i - 1][j]\n",
    "                bt[i][j] = bt[i - 1][j]\n",
    "    \n",
    "    capacidade_usada = sum([itens[i - 1][0] for i in bt[n_itens][peso]])\n",
    "    return m[n_itens][peso], bt[n_itens][peso], capacidade_usada"
   ]
  },
  {
   "cell_type": "code",
   "execution_count": 43,
   "metadata": {
    "ExecuteTime": {
     "end_time": "2019-12-09T16:48:10.779337Z",
     "start_time": "2019-12-09T16:48:09.572459Z"
    }
   },
   "outputs": [
    {
     "name": "stdout",
     "output_type": "stream",
     "text": [
      "Capacidade da mochila: 104\n",
      "Maior valor a ser levado, objetos selecionados e capacidade usada:  (900, [1, 3, 4, 5, 7, 8], 104)\n"
     ]
    }
   ],
   "source": [
    "#objs = [[1, 20], [3, 5], [1, 30], [2, 10]] # lista de objetos, com seus respectivos pesos e valores\n",
    "objs = [[25, 350], [35, 400], [45, 450], [5, 20], [25, 70], [3, 8], [2, 5], [2, 5]]\n",
    "\n",
    "capacidade = int(input(\"Capacidade da mochila: \"))\n",
    "print(\"Maior valor a ser levado, objetos selecionados e capacidade usada: \", mochila_bt(objs, capacidade))"
   ]
  },
  {
   "cell_type": "markdown",
   "metadata": {},
   "source": [
    "# Problema do troco\n",
    "\n",
    "Dado um valor e as denominações de moedas disponíveis, qual a menor quantidade de moedas a se utilizar para devolver um troco?\n",
    "\n",
    "O primeiro raciocínio pode ser ordenar as denominações do maior para o menor valor, pegando sempre a maior quantidade possível das maiores denominações. Isso vale para as cédulas que temos no Brasil (e para vários outros países também, claro), mas só porque as denominações foram cuidadosamente escolhidas. E se as nossas denominações fossem de 1, 7 e 11 e quiséssemos voltar um troco de 14 reais? Se fôssemos usar o raciocínio anterior, iríamos começar escolhendo uma nota de 11, indo depois para 3 notas de 1 real, totalizando 4 notas - mas... mmmmmmmmmmaaass, a solução ótima pra esse caso é devolver duas cédulas de 7 reais.\n",
    "\n",
    "Esse é um problema que também se resolve com programação dinâmica. Dessa vez temos dois casos-base: 1) Um valor de 0 reais precisa de 0 moedas; 2) Um valor N maior que 0 usará o mínimo entre as soluções ótimas calculadas para os valores menores do que N. \n",
    "\n",
    "Por exemplo, vamos supor que as moedas sejam, de fato, de 1, 7 e 11 e queiramos dar um troco de 7 reais. Como fica?\n",
    "\n",
    "[1 --- 7 --- 11]\n",
    "\n",
    "Para 0 reais: 0 moedas\n",
    "Para 1 real (só podemos usar a moeda de 1 real): olhamos para a solução ótima encontrada para 1 (valor) - 1 (moeda). Ou seja, olhamos para a solução do 0, e então somamos 1 (afinal, estamos usando uma moeda a mais agora). Logo, a solução ótima para o valor 1 é de 1 moeda.\n",
    "Para 2 reais (só podemos usar a moeda de 1 real): olhamos para a solução encontrada para 2 (valor) - 1 (moeda). Ou seja, olhamos para a solução do 1, e então somamos 1 (afinal, estamos usando uma moeda a mais agora). Logo, a solução ótima para o valor 2 é de 2 moedas.\n",
    "...\n",
    "Para 7 reais (podemos usar, agora, moedas de 1 e de 7 reais). Assim sendo, olhamos duas solução: 7 (valor) - 1 (moeda) e para 7 (valor) - 7 (moeda). Ou seja, olharemos para as soluções encontradas para o valor 6 e para o valor 0. Para o valor 6, usamos 6 moedas. Para o valor 0, usamos 0 moedas. Somamos 1 moeda para cada solução (1 para o 6 e 1 para o 0). Nossas opções ficam, portanto, entre 7 e 1. Claramente, a melhor solução é a segunda (porque usou uma única moeda de 7, ao invés de 7 de 1). Assim, nossa solução ótima para o troco de 7 é devolver uma moeda de 7."
   ]
  },
  {
   "cell_type": "code",
   "execution_count": 36,
   "metadata": {
    "ExecuteTime": {
     "end_time": "2019-12-09T15:22:34.872846Z",
     "start_time": "2019-12-09T15:22:34.867845Z"
    }
   },
   "outputs": [],
   "source": [
    "def troco(valor, moedas):\n",
    "        inf = 999999999\n",
    "        arr_valor = [inf for i in range(valor + 1)]\n",
    "        arr_valor[0] = 0 # primeiro caso-base\n",
    "        \n",
    "        for i in range(1, valor + 1):\n",
    "            for moeda in moedas:\n",
    "                if(i >= moeda): # verificamos as formas de devolver o troco e escolhemos aquela que dá o menor número de moedas\n",
    "                    arr_valor[i] = min(arr_valor[i - moeda] + 1, arr_valor[i])\n",
    "        \n",
    "        #print(arr_valor)\n",
    "        return arr_valor[valor]"
   ]
  },
  {
   "cell_type": "code",
   "execution_count": 38,
   "metadata": {
    "ExecuteTime": {
     "end_time": "2019-12-09T15:22:36.770797Z",
     "start_time": "2019-12-09T15:22:36.763822Z"
    }
   },
   "outputs": [],
   "source": [
    "def troco_bt(valor, moedas):\n",
    "        inf = 999999999\n",
    "        arr_valor = [inf for i in range(valor + 1)]\n",
    "        arr_valor[0] = 0 # primeiro caso-base\n",
    "        valor_bt = [np.zeros(len(moedas)) for i in range(valor + 1)]\n",
    "        \n",
    "        for i in range(1, valor + 1):\n",
    "            for j in range(len(moedas)):\n",
    "                if(i >= moedas[j]):\n",
    "                    if arr_valor[i - moedas[j]] + 1 < arr_valor[i]:\n",
    "                        valor_bt[i] = valor_bt[i - moedas[j]].copy()\n",
    "                        valor_bt[i][j] = valor_bt[i][j] + 1\n",
    "                    \n",
    "                    arr_valor[i] = min(arr_valor[i - moedas[j]] + 1, arr_valor[i])\n",
    "                    \n",
    "        \n",
    "        #print(arr_valor)\n",
    "        #print(valor_bt)\n",
    "        return arr_valor[valor], list(valor_bt[valor].astype(int))"
   ]
  },
  {
   "cell_type": "code",
   "execution_count": 39,
   "metadata": {
    "ExecuteTime": {
     "end_time": "2019-12-09T15:22:40.414377Z",
     "start_time": "2019-12-09T15:22:39.164154Z"
    }
   },
   "outputs": [
    {
     "name": "stdout",
     "output_type": "stream",
     "text": [
      "Valor do troco: 100000000\n"
     ]
    }
   ],
   "source": [
    "v = int(input(\"Valor do troco: \"))\n",
    "moedas = [1, 7, 11]"
   ]
  },
  {
   "cell_type": "code",
   "execution_count": 40,
   "metadata": {
    "ExecuteTime": {
     "end_time": "2019-12-09T15:24:07.618187Z",
     "start_time": "2019-12-09T15:22:41.475188Z"
    }
   },
   "outputs": [
    {
     "name": "stdout",
     "output_type": "stream",
     "text": [
      "Menor número de moedas necessárias:  9090910\n"
     ]
    }
   ],
   "source": [
    "print(\"Menor número de moedas necessárias: \", troco(v, moedas))"
   ]
  },
  {
   "cell_type": "code",
   "execution_count": 23,
   "metadata": {
    "ExecuteTime": {
     "end_time": "2019-12-09T12:43:59.102875Z",
     "start_time": "2019-12-09T12:38:39.676282Z"
    }
   },
   "outputs": [
    {
     "name": "stdout",
     "output_type": "stream",
     "text": [
      "Menor número de moedas necessárias e em quais quantias:  (9090910, [1, 0, 9090909])\n"
     ]
    }
   ],
   "source": [
    "print(\"Menor número de moedas necessárias e em quais quantias: \", troco_bt(v, moedas))"
   ]
  },
  {
   "cell_type": "code",
   "execution_count": null,
   "metadata": {},
   "outputs": [],
   "source": []
  }
 ],
 "metadata": {
  "kernelspec": {
   "display_name": "Python 3",
   "language": "python",
   "name": "python3"
  },
  "language_info": {
   "codemirror_mode": {
    "name": "ipython",
    "version": 3
   },
   "file_extension": ".py",
   "mimetype": "text/x-python",
   "name": "python",
   "nbconvert_exporter": "python",
   "pygments_lexer": "ipython3",
   "version": "3.7.4"
  }
 },
 "nbformat": 4,
 "nbformat_minor": 2
}
